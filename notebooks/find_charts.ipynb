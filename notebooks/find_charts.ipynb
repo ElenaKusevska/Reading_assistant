{
 "cells": [
  {
   "cell_type": "code",
   "execution_count": 10,
   "id": "593cc4ba-b59f-49b6-ac42-2f82c15c4240",
   "metadata": {},
   "outputs": [
    {
     "name": "stdout",
     "output_type": "stream",
     "text": [
      "'../../papers_drug_discovery/2 Computational Review Papers/2007 The role of multiscale computational approaches.pdf'\n"
     ]
    }
   ],
   "source": [
    "!ls ../../papers_drug_discovery/'2 Computational Review Papers'/'2007 The role of multiscale computational approaches.pdf'"
   ]
  },
  {
   "cell_type": "code",
   "execution_count": 235,
   "id": "0dcbedd0-72d5-4db3-8e1a-c1c0de27f4d8",
   "metadata": {},
   "outputs": [
    {
     "name": "stdout",
     "output_type": "stream",
     "text": [
      "../../papers_HPC/2407.04716v1.pdf\n"
     ]
    }
   ],
   "source": [
    "!ls ../../papers_HPC/2407.04716v1.pdf"
   ]
  },
  {
   "cell_type": "code",
   "execution_count": null,
   "id": "96c150b1-dcb5-4b3f-a296-5ca3b5bb0cca",
   "metadata": {},
   "outputs": [],
   "source": []
  },
  {
   "cell_type": "code",
   "execution_count": 11,
   "id": "c872e4af-ddad-4cb1-bad3-70356c70ac9b",
   "metadata": {},
   "outputs": [
    {
     "name": "stdout",
     "output_type": "stream",
     "text": [
      "Requirement already satisfied: pymupdf in /home/elena/Desktop/github_repos/text_to_speach/Reading_assistant/venv/lib/python3.8/site-packages (1.24.7)\n",
      "Requirement already satisfied: PyMuPDFb==1.24.6 in /home/elena/Desktop/github_repos/text_to_speach/Reading_assistant/venv/lib/python3.8/site-packages (from pymupdf) (1.24.6)\n",
      "\n",
      "\u001b[1m[\u001b[0m\u001b[34;49mnotice\u001b[0m\u001b[1;39;49m]\u001b[0m\u001b[39;49m A new release of pip is available: \u001b[0m\u001b[31;49m24.1.2\u001b[0m\u001b[39;49m -> \u001b[0m\u001b[32;49m24.2\u001b[0m\n",
      "\u001b[1m[\u001b[0m\u001b[34;49mnotice\u001b[0m\u001b[1;39;49m]\u001b[0m\u001b[39;49m To update, run: \u001b[0m\u001b[32;49mpip install --upgrade pip\u001b[0m\n"
     ]
    }
   ],
   "source": [
    "! pip install pymupdf"
   ]
  },
  {
   "cell_type": "code",
   "execution_count": 12,
   "id": "4bdc0dbe-7a89-4a71-8c2b-a0668640a7ce",
   "metadata": {},
   "outputs": [],
   "source": [
    "import fitz"
   ]
  },
  {
   "cell_type": "code",
   "execution_count": 13,
   "id": "fd8aba21-32b9-4da4-98f5-2495c3f889d7",
   "metadata": {},
   "outputs": [],
   "source": [
    "from PIL import Image"
   ]
  },
  {
   "cell_type": "code",
   "execution_count": 187,
   "id": "1926a39d-3d6e-4e9a-964f-1d9867ae3e58",
   "metadata": {},
   "outputs": [
    {
     "name": "stdout",
     "output_type": "stream",
     "text": [
      "mediabox Rect(0.0, 0.0, 612.0, 792.0)\n",
      "cropbox Rect(0.0, 0.0, 612.0, 792.0)\n"
     ]
    }
   ],
   "source": [
    "import pymupdf\n",
    "\n",
    "pdf = pymupdf.open(\"../../papers_drug_discovery/2 Computational Review Papers/2007 The role of multiscale computational approaches.pdf\")\n",
    "#pdf = pymupdf.open(\"../../papers_HPC/2407.04716v1.pdf\")\n",
    "page = pdf[3]\n",
    "\n",
    "print(\"mediabox\", page.mediabox)\n",
    "print(\"cropbox\", page.cropbox)"
   ]
  },
  {
   "cell_type": "markdown",
   "id": "5080445c-ecf4-4c31-adc8-841939b8685c",
   "metadata": {},
   "source": [
    "## Page Dict"
   ]
  },
  {
   "cell_type": "code",
   "execution_count": 188,
   "id": "ca1a0f77-2c05-471f-a3c3-b9eced51be19",
   "metadata": {},
   "outputs": [],
   "source": [
    "\n",
    "doc_order = []\n",
    "\n",
    "# read page text as a dictionary, suppressing extra spaces in CJK fonts\n",
    "blocks = page.get_text(\"dict\")[\"blocks\"]\n",
    "for b in blocks:  # iterate through the text blocks\n",
    "    #print(b)\n",
    "    if \"ext\" in b:\n",
    "        if b[\"ext\"] == \"jpeg\" or b[\"ext\"] == \"png\":\n",
    "            doc_order.append([\"image\", b[\"bbox\"][0], b[\"bbox\"][1], b[\"bbox\"][2], b[\"bbox\"][3]])\n",
    "        #else:\n",
    "            #print(b)\n",
    "    elif \"lines\" in b:\n",
    "        #print(b[\"bbox\"])\n",
    "        for l in b[\"lines\"]:  # iterate through the text lines\n",
    "            for s in l[\"spans\"]:  # iterate through the text spans\n",
    "                doc_order.append([\"text\", s[\"bbox\"][0], s[\"bbox\"][1], s[\"bbox\"][2], s[\"bbox\"][3]])\n",
    "    #else:\n",
    "        #print(b)\n",
    "\n",
    "#for d in doc_order:\n",
    "#    print(d)\n",
    "            "
   ]
  },
  {
   "cell_type": "code",
   "execution_count": 189,
   "id": "675ea633-2178-46eb-9fff-9d36c13b9058",
   "metadata": {},
   "outputs": [
    {
     "name": "stdout",
     "output_type": "stream",
     "text": [
      "53.849998474121094 28.74383544921875 543.7561645507812 762.0636596679688\n"
     ]
    }
   ],
   "source": [
    "# What range of coordinates does text content take up?\n",
    "minx = doc_order[0][1]\n",
    "miny = doc_order[0][2]\n",
    "maxx = doc_order[0][1]\n",
    "maxy = doc_order[0][2]\n",
    "\n",
    "for d in doc_order:\n",
    "    if d[1] < minx:\n",
    "        minx = d[1]\n",
    "\n",
    "    if d[1] > maxx:\n",
    "        maxx = d[1]\n",
    "\n",
    "    if d[2] < miny:\n",
    "        miny = d[2]\n",
    "\n",
    "    if d[1] > maxy:\n",
    "        maxy = d[2]\n",
    "\n",
    "    if d[3] < minx:\n",
    "        minx = d[3]\n",
    "\n",
    "    if d[3] > maxx:\n",
    "        maxx = d[3]\n",
    "\n",
    "    if d[4] < miny:\n",
    "        miny = d[4]\n",
    "\n",
    "    if d[4] > maxy:\n",
    "        maxy = d[4]\n",
    "\n",
    "print(minx, miny, maxx, maxy)"
   ]
  },
  {
   "cell_type": "code",
   "execution_count": null,
   "id": "d0903361-6dc7-4885-9459-16a803b458c6",
   "metadata": {},
   "outputs": [],
   "source": []
  },
  {
   "cell_type": "code",
   "execution_count": null,
   "id": "05516d19-33cf-4342-9904-765a41192d5b",
   "metadata": {},
   "outputs": [],
   "source": []
  },
  {
   "cell_type": "markdown",
   "id": "f723be55-6e3b-4c7d-a809-6e0ed30a93ba",
   "metadata": {},
   "source": [
    "## Annotations"
   ]
  },
  {
   "cell_type": "code",
   "execution_count": 190,
   "id": "8322c092-f652-456d-a60b-ef51dbc18e11",
   "metadata": {},
   "outputs": [],
   "source": [
    "page_content = page"
   ]
  },
  {
   "cell_type": "code",
   "execution_count": 191,
   "id": "5b364d6b-bd9f-4bfb-8b81-ad4207886724",
   "metadata": {},
   "outputs": [],
   "source": [
    "def two_lines_overlap(shape_items):\n",
    "    abs(shape_items[0][1] - shape_items[1][1]) < 2\n",
    "\n",
    "def two_lines_cross(shape_items):\n",
    "    print(shape_items)\n",
    "    print(shape_items[0])\n",
    "    print(shape_items[0][1])\n",
    "    \n",
    "    l1y1 = shape_items[0][1][1]\n",
    "    l1y2 = shape_items[0][2][1]\n",
    "    if l1y1 > l1y2:\n",
    "        l1maxy = l1y1\n",
    "        l1miny = l1y2\n",
    "    else:\n",
    "        l1maxy = l1y2\n",
    "        l1miny = l1y1\n",
    "\n",
    "    l2y1 = shape_items[1][1][1]\n",
    "    l2y2 = shape_items[1][2][1]\n",
    "    if l1y1 > l1y2:\n",
    "        l2maxy = l1y1\n",
    "        l2miny = l1y2\n",
    "    else:\n",
    "        l2maxy = l1y2\n",
    "        l2miny = l1y1\n",
    "\n",
    "    if l1maxy > l2miny + 1:\n",
    "        if l1miny < l2maxy - 1:\n",
    "            print(\"cross\")\n",
    "            return True\n",
    "\n",
    "    print(\" no cross\")\n",
    "    return False\n",
    "    "
   ]
  },
  {
   "cell_type": "code",
   "execution_count": 192,
   "id": "b4564490-5f35-48d6-8e83-8073ce72edf6",
   "metadata": {},
   "outputs": [],
   "source": [
    "def remove_shape(shape_type, shape_rect, shape_items):\n",
    "    if shape_type == \"s\":\n",
    "\n",
    "        if len(shape_items) == 1:\n",
    "            return True\n",
    "\n",
    "        if len(shape_items) == 2:\n",
    "            if two_lines_overlap(shape_items):\n",
    "                return True\n",
    "            elif two_lines_cross(shape_items):\n",
    "                return False\n",
    "            else: # they must be parallel\n",
    "                return True\n",
    "\n",
    "    if shape_type == \"f\":\n",
    "        # if it is basically a line\n",
    "        print(\"f\", abs(shape_rect[1] - shape_rect[3]))\n",
    "        if abs(shape_rect[1] - shape_rect[3]) < 2:\n",
    "            return True\n",
    "    "
   ]
  },
  {
   "cell_type": "code",
   "execution_count": 193,
   "id": "49004893-4b91-4a62-8e9e-56b6a4fee045",
   "metadata": {},
   "outputs": [],
   "source": [
    "def insert_in_doc_order(shape):\n",
    "    i = 0\n",
    "    not_found = True\n",
    "    while i < len(doc_order) and not_found:\n",
    "        #print(i, doc_order[i][0],shape[0])\n",
    "        if doc_order[i][2] > shape[2]: # comparing on y coordinate\n",
    "            #print(i, \"inserted\")\n",
    "            doc_order.insert(i, shape)\n",
    "            not_found = False\n",
    "        i = i + 1"
   ]
  },
  {
   "cell_type": "code",
   "execution_count": 194,
   "id": "72c5bba2-3955-4fb3-9863-9e52a4d8b11a",
   "metadata": {},
   "outputs": [
    {
     "name": "stdout",
     "output_type": "stream",
     "text": [
      "0\n",
      "[('l', Point(53.849998474121094, 749.5499877929688), Point(541.1500244140625, 749.5499877929688)), ('l', Point(53.849998474121094, 39.95001220703125), Point(541.1500244140625, 39.95001220703125))]\n",
      "('l', Point(53.849998474121094, 749.5499877929688), Point(541.1500244140625, 749.5499877929688))\n",
      "Point(53.849998474121094, 749.5499877929688)\n",
      " no cross\n",
      "1\n",
      "2\n",
      "3\n",
      "4\n",
      "5\n",
      "6\n",
      "7\n",
      "8\n",
      "9\n",
      "10\n",
      "11\n",
      "12\n",
      "13\n",
      "f 7.68096923828125\n",
      "14\n",
      "[('l', Point(201.91600036621094, 111.36199951171875), Point(254.24899291992188, 284.36199951171875)), ('l', Point(254.24899291992188, 284.36199951171875), Point(273.9159851074219, 306.36199951171875))]\n",
      "('l', Point(201.91600036621094, 111.36199951171875), Point(254.24899291992188, 284.36199951171875))\n",
      "Point(201.91600036621094, 111.36199951171875)\n",
      "cross\n",
      "15\n",
      "f 8.587005615234375\n",
      "16\n",
      "17\n",
      "f 5.6099853515625\n",
      "18\n",
      "f 5.930999755859375\n",
      "19\n",
      "f 5.6099853515625\n",
      "20\n",
      "f 5.6099853515625\n",
      "21\n",
      "f 5.6099853515625\n",
      "22\n",
      "23\n",
      "f 5.5260009765625\n",
      "24\n",
      "25\n",
      "f 5.5269775390625\n",
      "26\n",
      "27\n",
      "28\n",
      "29\n",
      "30\n",
      "31\n",
      "32\n",
      "33\n",
      "34\n",
      "f 2.0\n",
      "35\n",
      "36\n",
      "37\n",
      "f 2.0\n",
      "38\n",
      "f 2.0\n"
     ]
    }
   ],
   "source": [
    "from pymupdf import Rect, Point\n",
    "\n",
    "newdoc = pymupdf.open()\n",
    "page = newdoc.new_page()\n",
    "nshape = page.new_shape()\n",
    "\n",
    "i = 0\n",
    "for shape in page_content.get_drawings():\n",
    "    print(i)\n",
    "    i = i + 1\n",
    "    #if shape[\"type\"] == \"s\":\n",
    "#    print(\"shape\", shape[\"type\"])\n",
    "#    print(shape[\"items\"])\n",
    "#    print(shape[\"rect\"])\n",
    "    if not remove_shape(shape[\"type\"], shape[\"rect\"], shape[\"items\"]):\n",
    "        insert_in_doc_order([\"shape\" + shape[\"type\"],  shape[\"rect\"][0],  shape[\"rect\"][1],  shape[\"rect\"][2],  shape[\"rect\"][3]])\n",
    "        for item in shape['items']:\n",
    "            if item[0] == 're':\n",
    "                nshape.draw_rect(item[1])\n",
    "            elif item[0] == 'l':\n",
    "                nshape.draw_line(item[1], item[2])\n",
    "            elif item[0] == 'c':\n",
    "                nshape.draw_bezier(item[1], item[2], item[3], item[4])\n",
    "\n",
    "#        else:\n",
    "#            print(\"------------unknown-------------\", [\"shape\",  shape[\"type\"], shape[\"rect\"][1], shape[\"items\"], shape[\"rect\"]])\n",
    "    \n",
    "        #print(shape['type'], shape['fill_opacity'], shape['fill'],\n",
    "        #      shape['type'], shape['stroke_opacity'], shape['color'], shape['width'], shape['lineCap'], \n",
    "        #      shape['lineJoin'], shape['closePath'], shape['dashes'], shape['layer'], \n",
    "        #      shape['seqno'], shape['fill'], shape['fill_opacity'], shape['even_odd'])\n",
    "        #nshape.finish(width = shape['width'], fill=shape['fill'])\n",
    "        #shape_details = {'fill': shape['fill']}\n",
    "    nshape.finish(fill=shape['fill'])\n",
    "\n",
    "nshape.commit(overlay=True)\n",
    "newdoc.save(\"output.pdf\")\n",
    "\n",
    "for page in newdoc:\n",
    "    pix = page.get_pixmap()\n",
    "    pix.save(\"newdoc.png\")"
   ]
  },
  {
   "cell_type": "code",
   "execution_count": null,
   "id": "44129c47-40ab-4787-a229-48b2f4d2ad62",
   "metadata": {},
   "outputs": [],
   "source": []
  },
  {
   "cell_type": "code",
   "execution_count": 195,
   "id": "b11a90fe-20db-4c90-8212-112cc5762714",
   "metadata": {},
   "outputs": [],
   "source": [
    "import pandas as pd"
   ]
  },
  {
   "cell_type": "code",
   "execution_count": 196,
   "id": "843faad9-5c17-4e4b-9add-23009202a776",
   "metadata": {},
   "outputs": [],
   "source": [
    "df = pd.DataFrame(doc_order, columns = ['type', 'x0', 'y0', 'x1', 'y1'])"
   ]
  },
  {
   "cell_type": "code",
   "execution_count": 197,
   "id": "4c93be08-0689-4429-ad74-dd8afd832a2e",
   "metadata": {},
   "outputs": [],
   "source": [
    "df = df.sort_values(by='y0')"
   ]
  },
  {
   "cell_type": "code",
   "execution_count": 198,
   "id": "edd0f236-e7bf-447d-a76b-e984260bdd5e",
   "metadata": {},
   "outputs": [],
   "source": [
    "from tabulate import tabulate"
   ]
  },
  {
   "cell_type": "code",
   "execution_count": 199,
   "id": "4c1ae9e9-8b19-4ebb-8a5f-223c25282b04",
   "metadata": {},
   "outputs": [
    {
     "name": "stdout",
     "output_type": "stream",
     "text": [
      "+-----+---------+----------+----------+----------+----------+\n",
      "|     | type    |       x0 |       y0 |       x1 |       y1 |\n",
      "|-----+---------+----------+----------+----------+----------|\n",
      "|  37 | text    |  53.85   |  28.7438 | 125.462  |  38.0212 |\n",
      "|  93 | text    | 253.914  |  51.6882 | 481.078  |  67.3288 |\n",
      "|  92 | text    |  82.2498 |  59.0222 | 216.832  |  74.6628 |\n",
      "|   0 | shapefs | 251.916  |  67.028  | 488.583  |  67.028  |\n",
      "|   1 | shapefs | 234.249  |  69.029  | 512.583  | 374.695  |\n",
      "|   2 | shapefs | 278.814  |  74.529  | 425.993  | 100.029  |\n",
      "|   3 | shapefs |  81.75   |  76.279  | 214.499  | 352.778  |\n",
      "|  94 | text    | 298.583  |  80.8323 | 408.625  |  94.2386 |\n",
      "|   4 | shapef  | 276.412  |  84.463  | 285.896  |  90.073  |\n",
      "|   5 | shapef  | 276.412  |  84.463  | 285.896  |  90.073  |\n",
      "|   6 | shapef  | 276.412  |  84.463  | 285.896  |  90.073  |\n",
      "|   7 | shapef  | 276.412  |  84.463  | 285.896  |  90.073  |\n",
      "|   8 | shapefs | 455.749  |  86.029  | 508.749  | 364.028  |\n",
      "|   9 | shapes  | 202.583  |  86.695  | 279.583  | 307.695  |\n",
      "|  10 | shapefs |  92.083  |  88.696  | 202.416  | 133.029  |\n",
      "|  83 | text    | 134.919  |  97.6429 | 158.247  | 108.815  |\n",
      "|  11 | shapefs | 251.249  |  99.529  | 453.749  | 169.528  |\n",
      "|  97 | text    | 260.249  |  99.881  | 429.808  | 109.936  |\n",
      "|  12 | shapef  | 256.472  | 103.195  | 258.36   | 105.195  |\n",
      "|  13 | shapes  | 202.249  | 108.362  | 266.583  | 194.362  |\n",
      "|  84 | text    | 123.803  | 109.643  | 169.364  | 120.815  |\n",
      "|  98 | text    | 260.249  | 110.681  | 307.78   | 120.736  |\n",
      "|  14 | shapes  | 201.916  | 111.362  | 273.916  | 306.362  |\n",
      "|  99 | text    | 281.249  | 121.381  | 451.954  | 131.436  |\n",
      "|  15 | shapes  | 262.249  | 126.128  | 487.749  | 346.628  |\n",
      "|  16 | shapefs | 188.916  | 127.529  | 201.583  | 133.029  |\n",
      "| 100 | text    | 279.249  | 131.881  | 419.784  | 141.936  |\n",
      "| 101 | text    | 280.75   | 141.881  | 409.304  | 151.936  |\n",
      "|  91 | text    | 143.249  | 151.233  | 153.761  | 171.342  |\n",
      "| 102 | text    | 280.75   | 152.681  | 297.758  | 162.736  |\n",
      "| 112 | text    | 481.72   | 156.196  | 495.127  | 279.568  |\n",
      "|  17 | shapefs | 428.416  | 161.195  | 451.083  | 169.528  |\n",
      "| 113 | text    | 347.249  | 167.899  | 357.761  | 188.009  |\n",
      "|  18 | shapefs |  88.766  | 180.362  | 202.733  | 224.694  |\n",
      "| 111 | text    | 468.386  | 187.495  | 481.792  | 263.528  |\n",
      "|  19 | shapefs | 266.999  | 188.028  | 437.499  | 213.528  |\n",
      "|  85 | text    |  91.0057 | 188.642  | 188.827  | 199.814  |\n",
      "|  20 | shapef  | 263.019  | 190.752  | 271.9    | 198.433  |\n",
      "|  95 | text    | 287.917  | 194.166  | 419.952  | 207.573  |\n",
      "|  21 | shapef  | 263.842  | 199.932  | 272.946  | 205.459  |\n",
      "|  86 | text    | 103.787  | 200.642  | 176.038  | 211.814  |\n",
      "|  22 | shapefs | 273.583  | 214.361  | 441.583  | 284.028  |\n",
      "| 103 | text    | 281.75   | 218.882  | 408.282  | 228.936  |\n",
      "|  23 | shapefs | 188.416  | 219.695  | 201.083  | 225.195  |\n",
      "|  24 | shapef  | 278.472  | 222.361  | 280.36   | 224.361  |\n",
      "| 104 | text    | 281.75   | 229.682  | 430.644  | 239.736  |\n",
      "| 105 | text    | 281.75   | 240.482  | 406.821  | 250.536  |\n",
      "|  90 | text    | 141.75   | 250.733  | 152.262  | 270.843  |\n",
      "| 106 | text    | 302.25   | 250.882  | 433.785  | 260.937  |\n",
      "| 107 | text    | 302.25   | 261.682  | 376.777  | 271.737  |\n",
      "|  25 | shapefs | 420.916  | 275.361  | 441.583  | 284.028  |\n",
      "| 114 | text    | 347.249  | 281.901  | 357.761  | 302.01   |\n",
      "|  26 | shapefs |  92.091  | 287.07   | 202.075  | 338.985  |\n",
      "|  87 | text    | 108.952  | 292.31   | 182.873  | 303.482  |\n",
      "|  27 | shapefs | 269.666  | 301.528  | 435.396  | 327.028  |\n",
      "|  28 | shapef  | 270.286  | 302.767  | 278.379  | 311.354  |\n",
      "|  29 | shapef  | 265.334  | 304.267  | 274.794  | 310.198  |\n",
      "|  88 | text    | 129.248  | 304.31   | 162.588  | 315.482  |\n",
      "|  96 | text    | 299.249  | 307.498  | 406.627  | 320.904  |\n",
      "|  30 | shapef  | 266.148  | 310.622  | 275.279  | 316.148  |\n",
      "|  89 | text    | 109.788  | 316.31   | 182.039  | 327.482  |\n",
      "|  31 | shapefs | 257.583  | 328.362  | 448.916  | 369.028  |\n",
      "| 108 | text    | 269.25   | 331.882  | 426.81   | 341.937  |\n",
      "|  32 | shapefs | 188.749  | 333.361  | 201.416  | 338.861  |\n",
      "|  33 | shapef  | 265.639  | 335.361  | 267.527  | 337.361  |\n",
      "| 109 | text    | 276.25   | 341.382  | 417.308  | 351.437  |\n",
      "| 110 | text    | 276.25   | 352.182  | 323.789  | 362.237  |\n",
      "|  34 | shapefs | 425.749  | 363.529  | 443.916  | 368.529  |\n",
      "| 115 | text    |  53.85   | 386.132  |  82.4648 | 394.249  |\n",
      "| 116 | text    |  82.4618 | 386.132  | 511.848  | 394.249  |\n",
      "| 117 | text    |  53.85   | 395.132  |  96.0757 | 403.249  |\n",
      "|  60 | text    | 304.6    | 431.21   | 543.751  | 442.15   |\n",
      "|  38 | text    |  68      | 431.21   | 292.9    | 442.15   |\n",
      "|  61 | text    | 304.6    | 445.21   | 543.75   | 456.15   |\n",
      "|  39 | text    |  53.85   | 445.21   | 292.902  | 456.15   |\n",
      "|  62 | text    | 304.6    | 459.21   | 543.749  | 470.15   |\n",
      "|  40 | text    |  53.85   | 459.21   | 290.417  | 470.15   |\n",
      "|  41 | text    |  53.85   | 473.21   | 292.905  | 484.15   |\n",
      "|  63 | text    | 304.6    | 473.21   | 543.71   | 484.15   |\n",
      "|  64 | text    | 304.6    | 487.21   | 466.927  | 498.15   |\n",
      "|  65 | text    | 464.16   | 487.21   | 543.752  | 498.15   |\n",
      "|  42 | text    |  53.85   | 487.21   | 292.86   | 498.15   |\n",
      "|  66 | text    | 304.6    | 501.21   | 543.756  | 512.15   |\n",
      "|  43 | text    |  53.85   | 501.21   | 127.17   | 512.15   |\n",
      "|  67 | text    | 304.6    | 515.21   | 543.755  | 526.15   |\n",
      "|  44 | text    |  68      | 515.21   | 293      | 526.15   |\n",
      "|  68 | text    | 304.6    | 529.21   | 543.749  | 540.15   |\n",
      "|  45 | text    |  53.85   | 529.21   | 293      | 540.15   |\n",
      "|  69 | text    | 304.6    | 543.21   | 543.75   | 554.15   |\n",
      "|  46 | text    |  53.85   | 543.21   | 293.004  | 554.15   |\n",
      "|  71 | text    | 407.409  | 557.21   | 465.129  | 568.15   |\n",
      "|  70 | text    | 304.6    | 557.21   | 410.14   | 568.15   |\n",
      "|  47 | text    |  53.85   | 557.21   | 292.929  | 568.15   |\n",
      "|  48 | text    |  53.85   | 571.21   | 292.998  | 582.15   |\n",
      "|  72 | text    | 318.75   | 571.21   | 543.655  | 582.15   |\n",
      "|  49 | text    |  53.85   | 585.21   | 292.941  | 596.15   |\n",
      "|  73 | text    | 304.6    | 585.21   | 543.645  | 596.15   |\n",
      "|  74 | text    | 304.6    | 599.21   | 541.148  | 610.15   |\n",
      "|  50 | text    |  53.85   | 599.21   | 293.012  | 610.15   |\n",
      "|  75 | text    | 304.6    | 613.21   | 543.653  | 624.15   |\n",
      "|  51 | text    |  53.85   | 613.21   | 293.002  | 624.15   |\n",
      "|  76 | text    | 304.6    | 627.21   | 543.678  | 638.15   |\n",
      "|  52 | text    |  53.85   | 627.21   | 292.999  | 638.15   |\n",
      "|  77 | text    | 304.6    | 641.21   | 543.644  | 652.15   |\n",
      "|  53 | text    |  53.85   | 641.21   | 293.003  | 652.15   |\n",
      "|  78 | text    | 304.6    | 655.21   | 543.656  | 666.15   |\n",
      "|  55 | text    | 144.909  | 655.21   | 292.999  | 666.15   |\n",
      "|  54 | text    |  53.85   | 655.21   | 147.638  | 666.15   |\n",
      "|  79 | text    | 304.6    | 669.21   | 543.654  | 680.15   |\n",
      "|  56 | text    |  53.85   | 669.21   | 292.998  | 680.15   |\n",
      "|  57 | text    |  53.85   | 683.21   | 293.003  | 694.15   |\n",
      "|  80 | text    | 304.6    | 683.21   | 543.639  | 694.15   |\n",
      "|  81 | text    | 304.6    | 697.21   | 543.64   | 708.15   |\n",
      "|  58 | text    |  53.85   | 697.21   | 290.405  | 708.15   |\n",
      "|  82 | text    | 304.6    | 711.21   | 543.65   | 722.15   |\n",
      "|  59 | text    |  53.85   | 711.21   | 293.002  | 722.15   |\n",
      "|  36 | text    |  53.85   | 750.467  |  70.4076 | 762.064  |\n",
      "|  35 | text    | 384.255  | 750.993  | 541.161  | 760.271  |\n",
      "+-----+---------+----------+----------+----------+----------+\n"
     ]
    }
   ],
   "source": [
    "print(tabulate(df, headers = 'keys', tablefmt = 'psql'))"
   ]
  },
  {
   "cell_type": "code",
   "execution_count": 200,
   "id": "e92b661c-ed67-419d-84dd-5f433f064747",
   "metadata": {},
   "outputs": [],
   "source": [
    "df = df[df['type'].str.contains(\"shape\")]"
   ]
  },
  {
   "cell_type": "code",
   "execution_count": 201,
   "id": "98df8854-aeaf-4a23-a0f5-5915fa350e37",
   "metadata": {},
   "outputs": [
    {
     "name": "stdout",
     "output_type": "stream",
     "text": [
      "+----+---------+---------+---------+---------+---------+\n",
      "|    | type    |      x0 |      y0 |      x1 |      y1 |\n",
      "|----+---------+---------+---------+---------+---------|\n",
      "|  0 | shapefs | 251.916 |  67.028 | 488.583 |  67.028 |\n",
      "|  1 | shapefs | 234.249 |  69.029 | 512.583 | 374.695 |\n",
      "|  2 | shapefs | 278.814 |  74.529 | 425.993 | 100.029 |\n",
      "|  3 | shapefs |  81.75  |  76.279 | 214.499 | 352.778 |\n",
      "|  4 | shapef  | 276.412 |  84.463 | 285.896 |  90.073 |\n",
      "|  5 | shapef  | 276.412 |  84.463 | 285.896 |  90.073 |\n",
      "|  6 | shapef  | 276.412 |  84.463 | 285.896 |  90.073 |\n",
      "|  7 | shapef  | 276.412 |  84.463 | 285.896 |  90.073 |\n",
      "|  8 | shapefs | 455.749 |  86.029 | 508.749 | 364.028 |\n",
      "|  9 | shapes  | 202.583 |  86.695 | 279.583 | 307.695 |\n",
      "| 10 | shapefs |  92.083 |  88.696 | 202.416 | 133.029 |\n",
      "| 11 | shapefs | 251.249 |  99.529 | 453.749 | 169.528 |\n",
      "| 12 | shapef  | 256.472 | 103.195 | 258.36  | 105.195 |\n",
      "| 13 | shapes  | 202.249 | 108.362 | 266.583 | 194.362 |\n",
      "| 14 | shapes  | 201.916 | 111.362 | 273.916 | 306.362 |\n",
      "| 15 | shapes  | 262.249 | 126.128 | 487.749 | 346.628 |\n",
      "| 16 | shapefs | 188.916 | 127.529 | 201.583 | 133.029 |\n",
      "| 17 | shapefs | 428.416 | 161.195 | 451.083 | 169.528 |\n",
      "| 18 | shapefs |  88.766 | 180.362 | 202.733 | 224.694 |\n",
      "| 19 | shapefs | 266.999 | 188.028 | 437.499 | 213.528 |\n",
      "| 20 | shapef  | 263.019 | 190.752 | 271.9   | 198.433 |\n",
      "| 21 | shapef  | 263.842 | 199.932 | 272.946 | 205.459 |\n",
      "| 22 | shapefs | 273.583 | 214.361 | 441.583 | 284.028 |\n",
      "| 23 | shapefs | 188.416 | 219.695 | 201.083 | 225.195 |\n",
      "| 24 | shapef  | 278.472 | 222.361 | 280.36  | 224.361 |\n",
      "| 25 | shapefs | 420.916 | 275.361 | 441.583 | 284.028 |\n",
      "| 26 | shapefs |  92.091 | 287.07  | 202.075 | 338.985 |\n",
      "| 27 | shapefs | 269.666 | 301.528 | 435.396 | 327.028 |\n",
      "| 28 | shapef  | 270.286 | 302.767 | 278.379 | 311.354 |\n",
      "| 29 | shapef  | 265.334 | 304.267 | 274.794 | 310.198 |\n",
      "| 30 | shapef  | 266.148 | 310.622 | 275.279 | 316.148 |\n",
      "| 31 | shapefs | 257.583 | 328.362 | 448.916 | 369.028 |\n",
      "| 32 | shapefs | 188.749 | 333.361 | 201.416 | 338.861 |\n",
      "| 33 | shapef  | 265.639 | 335.361 | 267.527 | 337.361 |\n",
      "| 34 | shapefs | 425.749 | 363.529 | 443.916 | 368.529 |\n",
      "+----+---------+---------+---------+---------+---------+\n"
     ]
    }
   ],
   "source": [
    "print(tabulate(df, headers = 'keys', tablefmt = 'psql'))"
   ]
  },
  {
   "cell_type": "code",
   "execution_count": 202,
   "id": "b69ce514-49f0-4132-85b8-3b0e040f6eb5",
   "metadata": {},
   "outputs": [],
   "source": [
    "minx = df['x0'].min()\n",
    "miny = df['y0'].min()\n",
    "maxx = df['x1'].max()\n",
    "maxy = df['y1'].max()"
   ]
  },
  {
   "cell_type": "code",
   "execution_count": 203,
   "id": "9cd35024-0b38-47ee-9ed2-7fb364496e30",
   "metadata": {},
   "outputs": [
    {
     "name": "stdout",
     "output_type": "stream",
     "text": [
      "81.75 67.02801513671875 512.5830078125 374.69500732421875\n"
     ]
    }
   ],
   "source": [
    "print(minx, miny, maxx, maxy)"
   ]
  },
  {
   "cell_type": "code",
   "execution_count": 204,
   "id": "3d89b5df-2afa-4454-8bfd-36d375c83115",
   "metadata": {},
   "outputs": [],
   "source": [
    "mediabox = page.mediabox"
   ]
  },
  {
   "cell_type": "code",
   "execution_count": 205,
   "id": "5735a138-8d61-462f-a901-d5c80eab2a5d",
   "metadata": {},
   "outputs": [
    {
     "name": "stdout",
     "output_type": "stream",
     "text": [
      "0.0 0.0 595.0 842.0\n",
      "595.0 842.0\n"
     ]
    }
   ],
   "source": [
    "pagex0 = mediabox[0]\n",
    "pagey0 = mediabox[1]\n",
    "pagex1 = mediabox[2]\n",
    "pagey1 = mediabox[3]\n",
    "\n",
    "print(pagex0, pagey0, pagex1, pagey1)\n",
    "\n",
    "lenx = pagex1 - pagex0\n",
    "leny = pagey1 - pagey0\n",
    "\n",
    "print(lenx, leny)"
   ]
  },
  {
   "cell_type": "code",
   "execution_count": 206,
   "id": "e59a2097-4e4b-4eef-aeae-24a71fd0f584",
   "metadata": {},
   "outputs": [
    {
     "name": "stdout",
     "output_type": "stream",
     "text": [
      "0.1373949579831933 0.07960571868968973 0.8614840467436975 0.44500594694087736\n"
     ]
    }
   ],
   "source": [
    "minxpercent = minx / lenx\n",
    "minypercent = miny / leny\n",
    "maxxpercent = maxx / lenx\n",
    "maxypercent = maxy / leny\n",
    "\n",
    "print(minxpercent, minypercent, maxxpercent, maxypercent)"
   ]
  },
  {
   "cell_type": "code",
   "execution_count": 207,
   "id": "84786bbe-d25f-43b2-87e6-919d63158323",
   "metadata": {},
   "outputs": [
    {
     "name": "stdout",
     "output_type": "stream",
     "text": [
      "Requirement already satisfied: pdf2image in /home/elena/Desktop/github_repos/text_to_speach/Reading_assistant/venv/lib/python3.8/site-packages (1.17.0)\n",
      "Requirement already satisfied: pillow in /home/elena/Desktop/github_repos/text_to_speach/Reading_assistant/venv/lib/python3.8/site-packages (from pdf2image) (10.4.0)\n",
      "\n",
      "\u001b[1m[\u001b[0m\u001b[34;49mnotice\u001b[0m\u001b[1;39;49m]\u001b[0m\u001b[39;49m A new release of pip is available: \u001b[0m\u001b[31;49m24.1.2\u001b[0m\u001b[39;49m -> \u001b[0m\u001b[32;49m24.2\u001b[0m\n",
      "\u001b[1m[\u001b[0m\u001b[34;49mnotice\u001b[0m\u001b[1;39;49m]\u001b[0m\u001b[39;49m To update, run: \u001b[0m\u001b[32;49mpip install --upgrade pip\u001b[0m\n"
     ]
    }
   ],
   "source": [
    "! pip install pdf2image"
   ]
  },
  {
   "cell_type": "code",
   "execution_count": 208,
   "id": "77df9ee5-a867-4712-8dd3-f30d9caa868e",
   "metadata": {},
   "outputs": [],
   "source": [
    "from pdf2image import convert_from_path"
   ]
  },
  {
   "cell_type": "code",
   "execution_count": 209,
   "id": "87037002-8467-4e34-9e1f-3ec76b5aa6ad",
   "metadata": {},
   "outputs": [],
   "source": [
    "images = convert_from_path(\"../../papers_drug_discovery/2 Computational Review Papers/2007 The role of multiscale computational approaches.pdf\")"
   ]
  },
  {
   "cell_type": "code",
   "execution_count": 210,
   "id": "bc74e437-9a7e-4c79-90ba-c8c626fe00a7",
   "metadata": {},
   "outputs": [],
   "source": [
    "#images = convert_from_path(\"../../papers_HPC/2407.04716v1.pdf\")"
   ]
  },
  {
   "cell_type": "code",
   "execution_count": 211,
   "id": "5beb1a03-9019-44da-b363-ccb8af80fafa",
   "metadata": {},
   "outputs": [],
   "source": [
    "images[3].save('page1' +'.jpg', 'JPEG')"
   ]
  },
  {
   "cell_type": "code",
   "execution_count": 212,
   "id": "765e2aed-2d05-40a3-a606-10f05ed00b8c",
   "metadata": {},
   "outputs": [],
   "source": [
    "# Importing Image class from PIL module\n",
    "from PIL import Image\n",
    " \n",
    "# Opens a image in RGB mode\n",
    "im = Image.open('page1' +'.jpg')"
   ]
  },
  {
   "cell_type": "code",
   "execution_count": 213,
   "id": "14c2b94e-6a53-4bb7-97c7-7ea5103b8dff",
   "metadata": {},
   "outputs": [],
   "source": [
    "width, height = im.size"
   ]
  },
  {
   "cell_type": "code",
   "execution_count": 214,
   "id": "51efcfbe-4905-48a4-8db7-4f07de0318e0",
   "metadata": {},
   "outputs": [
    {
     "name": "stdout",
     "output_type": "stream",
     "text": [
      "1700 2200\n"
     ]
    }
   ],
   "source": [
    "print(width, height)"
   ]
  },
  {
   "cell_type": "code",
   "execution_count": 215,
   "id": "174e81f3-65c4-4abe-912c-2f2f19d33346",
   "metadata": {},
   "outputs": [],
   "source": [
    "left = (minxpercent - 0.05) * width\n",
    "top = (minypercent - 0.05) * height\n",
    "right = (maxxpercent + 0.05) * width\n",
    "bottom = (maxypercent + 0.06) * height"
   ]
  },
  {
   "cell_type": "code",
   "execution_count": 216,
   "id": "ffe1805d-12d0-4efb-922a-c78c60365d60",
   "metadata": {},
   "outputs": [],
   "source": [
    "im1 = im.crop((left, top, right, bottom))"
   ]
  },
  {
   "cell_type": "code",
   "execution_count": 217,
   "id": "1af8f44a-8a7a-4144-b474-3345f93714c5",
   "metadata": {},
   "outputs": [],
   "source": [
    "im1.show()"
   ]
  },
  {
   "cell_type": "code",
   "execution_count": 218,
   "id": "4bbc5df6-f35d-46cb-a3a8-e1c9e5a40dbd",
   "metadata": {},
   "outputs": [],
   "source": [
    "im1.save('im1' +'.jpg', 'JPEG')"
   ]
  },
  {
   "cell_type": "code",
   "execution_count": null,
   "id": "751c4d65-1288-4865-b3ac-1a0ef09859bb",
   "metadata": {},
   "outputs": [],
   "source": []
  }
 ],
 "metadata": {
  "kernelspec": {
   "display_name": "Python 3 (ipykernel)",
   "language": "python",
   "name": "python3"
  },
  "language_info": {
   "codemirror_mode": {
    "name": "ipython",
    "version": 3
   },
   "file_extension": ".py",
   "mimetype": "text/x-python",
   "name": "python",
   "nbconvert_exporter": "python",
   "pygments_lexer": "ipython3",
   "version": "3.8.14"
  }
 },
 "nbformat": 4,
 "nbformat_minor": 5
}
