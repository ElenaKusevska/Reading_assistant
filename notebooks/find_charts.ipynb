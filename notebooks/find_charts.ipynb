{
 "cells": [
  {
   "cell_type": "code",
   "execution_count": 10,
   "id": "593cc4ba-b59f-49b6-ac42-2f82c15c4240",
   "metadata": {},
   "outputs": [
    {
     "name": "stdout",
     "output_type": "stream",
     "text": [
      "'../../papers_drug_discovery/2 Computational Review Papers/2007 The role of multiscale computational approaches.pdf'\n"
     ]
    }
   ],
   "source": [
    "!ls ../../papers_drug_discovery/'2 Computational Review Papers'/'2007 The role of multiscale computational approaches.pdf'"
   ]
  },
  {
   "cell_type": "code",
   "execution_count": 235,
   "id": "0dcbedd0-72d5-4db3-8e1a-c1c0de27f4d8",
   "metadata": {},
   "outputs": [
    {
     "name": "stdout",
     "output_type": "stream",
     "text": [
      "../../papers_HPC/2407.04716v1.pdf\n"
     ]
    }
   ],
   "source": [
    "!ls ../../papers_HPC/2407.04716v1.pdf"
   ]
  },
  {
   "cell_type": "code",
   "execution_count": null,
   "id": "96c150b1-dcb5-4b3f-a296-5ca3b5bb0cca",
   "metadata": {},
   "outputs": [],
   "source": []
  },
  {
   "cell_type": "code",
   "execution_count": 11,
   "id": "c872e4af-ddad-4cb1-bad3-70356c70ac9b",
   "metadata": {},
   "outputs": [
    {
     "name": "stdout",
     "output_type": "stream",
     "text": [
      "Requirement already satisfied: pymupdf in /home/elena/Desktop/github_repos/text_to_speach/Reading_assistant/venv/lib/python3.8/site-packages (1.24.7)\n",
      "Requirement already satisfied: PyMuPDFb==1.24.6 in /home/elena/Desktop/github_repos/text_to_speach/Reading_assistant/venv/lib/python3.8/site-packages (from pymupdf) (1.24.6)\n",
      "\n",
      "\u001b[1m[\u001b[0m\u001b[34;49mnotice\u001b[0m\u001b[1;39;49m]\u001b[0m\u001b[39;49m A new release of pip is available: \u001b[0m\u001b[31;49m24.1.2\u001b[0m\u001b[39;49m -> \u001b[0m\u001b[32;49m24.2\u001b[0m\n",
      "\u001b[1m[\u001b[0m\u001b[34;49mnotice\u001b[0m\u001b[1;39;49m]\u001b[0m\u001b[39;49m To update, run: \u001b[0m\u001b[32;49mpip install --upgrade pip\u001b[0m\n"
     ]
    }
   ],
   "source": [
    "! pip install pymupdf"
   ]
  },
  {
   "cell_type": "code",
   "execution_count": 12,
   "id": "4bdc0dbe-7a89-4a71-8c2b-a0668640a7ce",
   "metadata": {},
   "outputs": [],
   "source": [
    "import fitz"
   ]
  },
  {
   "cell_type": "code",
   "execution_count": 13,
   "id": "fd8aba21-32b9-4da4-98f5-2495c3f889d7",
   "metadata": {},
   "outputs": [],
   "source": [
    "from PIL import Image"
   ]
  },
  {
   "cell_type": "code",
   "execution_count": 442,
   "id": "1926a39d-3d6e-4e9a-964f-1d9867ae3e58",
   "metadata": {},
   "outputs": [
    {
     "name": "stdout",
     "output_type": "stream",
     "text": [
      "mediabox Rect(0.0, 0.0, 612.0, 792.0)\n",
      "cropbox Rect(0.0, 0.0, 612.0, 792.0)\n"
     ]
    }
   ],
   "source": [
    "import pymupdf\n",
    "\n",
    "pdf = pymupdf.open(\"../../papers_drug_discovery/2 Computational Review Papers/2007 The role of multiscale computational approaches.pdf\")\n",
    "#pdf = pymupdf.open(\"../../papers_HPC/2407.04716v1.pdf\")\n",
    "page = pdf[1]\n",
    "\n",
    "print(\"mediabox\", page.mediabox)\n",
    "print(\"cropbox\", page.cropbox)"
   ]
  },
  {
   "cell_type": "markdown",
   "id": "5080445c-ecf4-4c31-adc8-841939b8685c",
   "metadata": {},
   "source": [
    "## Page Dict"
   ]
  },
  {
   "cell_type": "code",
   "execution_count": 443,
   "id": "ca1a0f77-2c05-471f-a3c3-b9eced51be19",
   "metadata": {},
   "outputs": [],
   "source": [
    "\n",
    "doc_order = []\n",
    "\n",
    "# read page text as a dictionary, suppressing extra spaces in CJK fonts\n",
    "blocks = page.get_text(\"dict\")[\"blocks\"]\n",
    "for b in blocks:  # iterate through the text blocks\n",
    "    #print(b)\n",
    "    if \"ext\" in b:\n",
    "        if b[\"ext\"] == \"jpeg\" or b[\"ext\"] == \"png\":\n",
    "            doc_order.append([\"image\", b[\"bbox\"][0], b[\"bbox\"][1], b[\"bbox\"][2], b[\"bbox\"][3]])\n",
    "        #else:\n",
    "            #print(b)\n",
    "    elif \"lines\" in b:\n",
    "        #print(b[\"bbox\"])\n",
    "        for l in b[\"lines\"]:  # iterate through the text lines\n",
    "            for s in l[\"spans\"]:  # iterate through the text spans\n",
    "                doc_order.append([\"text\", s[\"bbox\"][0], s[\"bbox\"][1], s[\"bbox\"][2], s[\"bbox\"][3]])\n",
    "    #else:\n",
    "        #print(b)\n",
    "\n",
    "#for d in doc_order:\n",
    "#    print(d)\n",
    "            "
   ]
  },
  {
   "cell_type": "code",
   "execution_count": 444,
   "id": "675ea633-2178-46eb-9fff-9d36c13b9058",
   "metadata": {},
   "outputs": [
    {
     "name": "stdout",
     "output_type": "stream",
     "text": [
      "53.849998474121094 28.74383544921875 543.7523193359375 762.0636596679688\n"
     ]
    }
   ],
   "source": [
    "# What range of coordinates does text content take up?\n",
    "minx = doc_order[0][1]\n",
    "miny = doc_order[0][2]\n",
    "maxx = doc_order[0][1]\n",
    "maxy = doc_order[0][2]\n",
    "\n",
    "for d in doc_order:\n",
    "    if d[1] < minx:\n",
    "        minx = d[1]\n",
    "\n",
    "    if d[1] > maxx:\n",
    "        maxx = d[1]\n",
    "\n",
    "    if d[2] < miny:\n",
    "        miny = d[2]\n",
    "\n",
    "    if d[1] > maxy:\n",
    "        maxy = d[2]\n",
    "\n",
    "    if d[3] < minx:\n",
    "        minx = d[3]\n",
    "\n",
    "    if d[3] > maxx:\n",
    "        maxx = d[3]\n",
    "\n",
    "    if d[4] < miny:\n",
    "        miny = d[4]\n",
    "\n",
    "    if d[4] > maxy:\n",
    "        maxy = d[4]\n",
    "\n",
    "print(minx, miny, maxx, maxy)"
   ]
  },
  {
   "cell_type": "code",
   "execution_count": null,
   "id": "d0903361-6dc7-4885-9459-16a803b458c6",
   "metadata": {},
   "outputs": [],
   "source": []
  },
  {
   "cell_type": "code",
   "execution_count": null,
   "id": "05516d19-33cf-4342-9904-765a41192d5b",
   "metadata": {},
   "outputs": [],
   "source": []
  },
  {
   "cell_type": "markdown",
   "id": "f723be55-6e3b-4c7d-a809-6e0ed30a93ba",
   "metadata": {},
   "source": [
    "## Annotations"
   ]
  },
  {
   "cell_type": "code",
   "execution_count": 445,
   "id": "8322c092-f652-456d-a60b-ef51dbc18e11",
   "metadata": {},
   "outputs": [],
   "source": [
    "page_content = page"
   ]
  },
  {
   "cell_type": "code",
   "execution_count": 446,
   "id": "5b364d6b-bd9f-4bfb-8b81-ad4207886724",
   "metadata": {},
   "outputs": [],
   "source": [
    "def two_lines_overlap(shape_items):\n",
    "    abs(shape_items[0][1] - shape_items[1][1]) < 2\n",
    "\n",
    "def two_lines_cross(shape_items):\n",
    "    print(shape_items)\n",
    "    print(shape_items[0])\n",
    "    print(shape_items[0][1])\n",
    "    \n",
    "    l1y1 = shape_items[0][1][1]\n",
    "    l1y2 = shape_items[0][2][1]\n",
    "    if l1y1 > l1y2:\n",
    "        l1maxy = l1y1\n",
    "        l1miny = l1y2\n",
    "    else:\n",
    "        l1maxy = l1y2\n",
    "        l1miny = l1y1\n",
    "\n",
    "    l2y1 = shape_items[1][1][1]\n",
    "    l2y2 = shape_items[1][2][1]\n",
    "    if l1y1 > l1y2:\n",
    "        l2maxy = l1y1\n",
    "        l2miny = l1y2\n",
    "    else:\n",
    "        l2maxy = l1y2\n",
    "        l2miny = l1y1\n",
    "\n",
    "    if l1maxy > l2miny + 1:\n",
    "        if l1miny < l2maxy - 1:\n",
    "            print(\"cross\")\n",
    "            return True\n",
    "\n",
    "    print(\" no cross\")\n",
    "    return False\n",
    "    "
   ]
  },
  {
   "cell_type": "code",
   "execution_count": 447,
   "id": "b4564490-5f35-48d6-8e83-8073ce72edf6",
   "metadata": {},
   "outputs": [],
   "source": [
    "def remove_shape(shape_type, shape_rect, shape_items):\n",
    "    if shape_type == \"s\":\n",
    "\n",
    "        if len(shape_items) == 1:\n",
    "            return True\n",
    "\n",
    "        if len(shape_items) == 2:\n",
    "            if two_lines_overlap(shape_items):\n",
    "                return True\n",
    "            elif two_lines_cross(shape_items):\n",
    "                return False\n",
    "            else: # they must be parallel\n",
    "                return True\n",
    "\n",
    "    if shape_type == \"f\":\n",
    "        # if it is basically a line\n",
    "        print(\"f\", abs(shape_rect[1] - shape_rect[3]))\n",
    "        if abs(shape_rect[1] - shape_rect[3]) < 2:\n",
    "            return True\n",
    "    "
   ]
  },
  {
   "cell_type": "code",
   "execution_count": 448,
   "id": "49004893-4b91-4a62-8e9e-56b6a4fee045",
   "metadata": {},
   "outputs": [],
   "source": [
    "def insert_in_doc_order(shape):\n",
    "    i = 0\n",
    "    not_found = True\n",
    "    while i < len(doc_order) and not_found:\n",
    "        #print(i, doc_order[i][0],shape[0])\n",
    "        if doc_order[i][2] > shape[2]: # comparing on y coordinate\n",
    "            #print(i, \"inserted\")\n",
    "            doc_order.insert(i, shape)\n",
    "            not_found = False\n",
    "        i = i + 1"
   ]
  },
  {
   "cell_type": "code",
   "execution_count": 449,
   "id": "72c5bba2-3955-4fb3-9863-9e52a4d8b11a",
   "metadata": {},
   "outputs": [
    {
     "name": "stdout",
     "output_type": "stream",
     "text": [
      "0\n",
      "[('l', Point(53.849998474121094, 749.5499877929688), Point(541.1500244140625, 749.5499877929688)), ('l', Point(53.849998474121094, 39.95001220703125), Point(541.1500244140625, 39.95001220703125))]\n",
      "('l', Point(53.849998474121094, 749.5499877929688), Point(541.1500244140625, 749.5499877929688))\n",
      "Point(53.849998474121094, 749.5499877929688)\n",
      " no cross\n",
      "1\n",
      "f 42.5\n",
      "2\n",
      "f 14.0\n",
      "3\n",
      "f 40.6669921875\n",
      "4\n",
      "f 14.25\n",
      "5\n",
      "f 14.25\n",
      "6\n",
      "f 14.25\n",
      "7\n",
      "f 14.25\n",
      "8\n",
      "f 14.25\n",
      "9\n",
      "f 14.25\n",
      "10\n",
      "f 14.25\n",
      "11\n",
      "f 14.25\n",
      "12\n",
      "f 14.25\n",
      "13\n",
      "f 82.0\n"
     ]
    }
   ],
   "source": [
    "from pymupdf import Rect, Point\n",
    "\n",
    "newdoc = pymupdf.open()\n",
    "page = newdoc.new_page()\n",
    "nshape = page.new_shape()\n",
    "\n",
    "i = 0\n",
    "for shape in page_content.get_drawings():\n",
    "    print(i)\n",
    "    i = i + 1\n",
    "    #if shape[\"type\"] == \"s\":\n",
    "#    print(\"shape\", shape[\"type\"])\n",
    "#    print(shape[\"items\"])\n",
    "#    print(shape[\"rect\"])\n",
    "    if not remove_shape(shape[\"type\"], shape[\"rect\"], shape[\"items\"]):\n",
    "        insert_in_doc_order([\"shape\" + shape[\"type\"],  shape[\"rect\"][0],  shape[\"rect\"][1],  shape[\"rect\"][2],  shape[\"rect\"][3]])\n",
    "        for item in shape['items']:\n",
    "            if item[0] == 're':\n",
    "                nshape.draw_rect(item[1])\n",
    "            elif item[0] == 'l':\n",
    "                nshape.draw_line(item[1], item[2])\n",
    "            elif item[0] == 'c':\n",
    "                nshape.draw_bezier(item[1], item[2], item[3], item[4])\n",
    "\n",
    "#        else:\n",
    "#            print(\"------------unknown-------------\", [\"shape\",  shape[\"type\"], shape[\"rect\"][1], shape[\"items\"], shape[\"rect\"]])\n",
    "    \n",
    "        #print(shape['type'], shape['fill_opacity'], shape['fill'],\n",
    "        #      shape['type'], shape['stroke_opacity'], shape['color'], shape['width'], shape['lineCap'], \n",
    "        #      shape['lineJoin'], shape['closePath'], shape['dashes'], shape['layer'], \n",
    "        #      shape['seqno'], shape['fill'], shape['fill_opacity'], shape['even_odd'])\n",
    "        #nshape.finish(width = shape['width'], fill=shape['fill'])\n",
    "        #shape_details = {'fill': shape['fill']}\n",
    "    nshape.finish(fill=shape['fill'])\n",
    "\n",
    "nshape.commit(overlay=True)\n",
    "newdoc.save(\"output.pdf\")\n",
    "\n",
    "for page in newdoc:\n",
    "    pix = page.get_pixmap()\n",
    "    pix.save(\"newdoc.png\")"
   ]
  },
  {
   "cell_type": "code",
   "execution_count": null,
   "id": "44129c47-40ab-4787-a229-48b2f4d2ad62",
   "metadata": {},
   "outputs": [],
   "source": []
  },
  {
   "cell_type": "code",
   "execution_count": 450,
   "id": "b11a90fe-20db-4c90-8212-112cc5762714",
   "metadata": {},
   "outputs": [],
   "source": [
    "import pandas as pd"
   ]
  },
  {
   "cell_type": "code",
   "execution_count": 451,
   "id": "843faad9-5c17-4e4b-9add-23009202a776",
   "metadata": {},
   "outputs": [],
   "source": [
    "df = pd.DataFrame(doc_order, columns = ['type', 'x0', 'y0', 'x1', 'y1'])"
   ]
  },
  {
   "cell_type": "code",
   "execution_count": 452,
   "id": "edd0f236-e7bf-447d-a76b-e984260bdd5e",
   "metadata": {},
   "outputs": [],
   "source": [
    "from tabulate import tabulate"
   ]
  },
  {
   "cell_type": "code",
   "execution_count": 453,
   "id": "4c1ae9e9-8b19-4ebb-8a5f-223c25282b04",
   "metadata": {},
   "outputs": [
    {
     "name": "stdout",
     "output_type": "stream",
     "text": [
      "+-----+--------+----------+----------+----------+----------+\n",
      "|     | type   |       x0 |       y0 |       x1 |       y1 |\n",
      "|-----+--------+----------+----------+----------+----------|\n",
      "|   0 | shapef | 162.305  | 521.469  | 240.555  | 563.969  |\n",
      "|   1 | shapef | 409.474  | 556.301  | 491.474  | 638.301  |\n",
      "|   2 | shapef | 273.805  | 594.636  | 382.139  | 635.303  |\n",
      "|   3 | shapef |  79.805  | 598.719  | 153.805  | 612.719  |\n",
      "|   4 | shapef |  90.805  | 688.969  | 115.055  | 703.219  |\n",
      "|   5 | shapef | 125.055  | 689.969  | 154.305  | 704.219  |\n",
      "|   6 | shapef | 192.805  | 692.469  | 222.055  | 706.719  |\n",
      "|   7 | shapef | 295.305  | 692.969  | 325.555  | 707.219  |\n",
      "|   8 | shapef | 230.055  | 693.219  | 260.305  | 707.469  |\n",
      "|   9 | shapef | 332.805  | 693.719  | 363.055  | 707.969  |\n",
      "|  10 | shapef | 435.555  | 693.719  | 465.805  | 707.969  |\n",
      "|  11 | shapef | 475.805  | 693.969  | 506.055  | 708.219  |\n",
      "|  12 | shapef | 396.555  | 694.219  | 426.805  | 708.469  |\n",
      "|  13 | text   | 384.255  | 750.993  | 541.161  | 760.271  |\n",
      "|  14 | text   |  53.85   | 750.467  |  70.4076 | 762.064  |\n",
      "|  15 | text   |  53.85   |  28.7438 | 125.462  |  38.0212 |\n",
      "|  16 | text   |  53.85   |  52.9101 | 290.39   |  63.8501 |\n",
      "|  17 | text   |  53.85   |  66.9101 | 292.906  |  77.8501 |\n",
      "|  18 | text   |  53.85   |  80.9101 | 292.904  |  91.8501 |\n",
      "|  19 | text   |  53.85   |  94.9101 | 290.4    | 105.85   |\n",
      "|  20 | text   |  53.85   | 108.91   | 273.009  | 119.85   |\n",
      "|  21 | text   |  53.85   | 132.831  | 229.25   | 149.067  |\n",
      "|  22 | text   |  53.85   | 149.631  |  78.056  | 165.867  |\n",
      "|  23 | text   |  74.556  | 149.631  | 174.744  | 165.867  |\n",
      "|  24 | text   |  53.85   | 167.86   | 292.816  | 178.8    |\n",
      "|  25 | text   |  53.85   | 181.86   | 292.801  | 192.8    |\n",
      "|  26 | text   |  53.85   | 195.86   | 292.8    | 206.8    |\n",
      "|  27 | text   |  53.85   | 209.86   | 292.806  | 220.8    |\n",
      "|  28 | text   |  53.85   | 223.86   | 290.404  | 234.8    |\n",
      "|  29 | text   |  53.85   | 237.86   | 292.803  | 248.8    |\n",
      "|  30 | text   |  53.85   | 251.86   | 292.801  | 262.8    |\n",
      "|  31 | text   |  53.85   | 265.86   | 290.402  | 276.8    |\n",
      "|  32 | text   |  53.85   | 279.86   | 292.8    | 290.8    |\n",
      "|  33 | text   |  53.85   | 293.86   | 292.804  | 304.8    |\n",
      "|  34 | text   |  53.85   | 307.86   |  81.69   | 318.8    |\n",
      "|  35 | text   |  78.865  | 307.86   | 292.754  | 318.8    |\n",
      "|  36 | text   |  53.85   | 321.86   | 292.812  | 332.8    |\n",
      "|  37 | text   |  53.85   | 335.86   | 292.825  | 346.8    |\n",
      "|  38 | text   |  53.85   | 349.86   | 228.773  | 360.8    |\n",
      "|  39 | text   | 228.569  | 350.191  | 237.145  | 356.569  |\n",
      "|  40 | text   | 236.976  | 349.86   | 292.798  | 360.8    |\n",
      "|  41 | text   |  53.85   | 363.86   | 118.724  | 374.8    |\n",
      "|  42 | text   | 118.623  | 364.191  | 127.31   | 370.569  |\n",
      "|  43 | text   | 127.251  | 363.86   | 292.797  | 374.8    |\n",
      "|  44 | text   |  53.85   | 377.86   | 292.81   | 388.8    |\n",
      "|  45 | text   |  53.85   | 391.86   | 292.799  | 402.8    |\n",
      "|  46 | text   | 304.6    |  52.91   | 543.557  |  63.85   |\n",
      "|  47 | text   | 304.6    |  66.91   | 543.554  |  77.85   |\n",
      "|  48 | text   | 304.6    |  80.91   | 543.549  |  91.85   |\n",
      "|  49 | text   | 304.6    |  94.91   | 496.71   | 105.85   |\n",
      "|  50 | text   | 318.75   | 108.91   | 543.656  | 119.85   |\n",
      "|  51 | text   | 304.6    | 122.91   | 543.675  | 133.85   |\n",
      "|  52 | text   | 304.6    | 136.91   | 474.514  | 147.85   |\n",
      "|  53 | text   | 471.734  | 136.91   | 543.65   | 147.85   |\n",
      "|  54 | text   | 304.6    | 150.91   | 543.631  | 161.85   |\n",
      "|  55 | text   | 304.6    | 164.91   | 543.748  | 175.85   |\n",
      "|  56 | text   | 304.6    | 178.91   | 543.746  | 189.85   |\n",
      "|  57 | text   | 304.6    | 192.91   | 543.752  | 203.85   |\n",
      "|  58 | text   | 304.6    | 206.91   | 543.732  | 217.85   |\n",
      "|  59 | text   | 304.6    | 220.91   | 541.155  | 231.85   |\n",
      "|  60 | text   | 304.6    | 234.91   | 541.152  | 245.85   |\n",
      "|  61 | text   | 304.6    | 248.91   | 543.652  | 259.85   |\n",
      "|  62 | text   | 304.6    | 262.91   | 543.655  | 273.85   |\n",
      "|  63 | text   | 304.6    | 276.91   | 543.628  | 287.85   |\n",
      "|  64 | text   | 304.6    | 290.91   | 543.65   | 301.85   |\n",
      "|  65 | text   | 304.6    | 304.91   | 483.47   | 315.85   |\n",
      "|  66 | text   | 304.6    | 331.481  | 328.806  | 347.717  |\n",
      "|  67 | text   | 325.306  | 331.481  | 495.154  | 347.717  |\n",
      "|  68 | text   | 304.6    | 349.71   | 536.853  | 360.65   |\n",
      "|  69 | text   | 533.98   | 349.71   | 543.55   | 360.65   |\n",
      "|  70 | text   | 304.6    | 363.71   | 543.555  | 374.65   |\n",
      "|  71 | text   | 304.6    | 377.71   | 543.594  | 388.65   |\n",
      "|  72 | text   | 304.6    | 391.71   | 543.531  | 402.65   |\n",
      "|  73 | image  |  76.737  | 424.842  | 518.253  | 709.008  |\n",
      "|  74 | text   | 160.555  | 520.511  | 232.089  | 532.8    |\n",
      "|  75 | text   | 160.555  | 533.711  | 231.461  | 546      |\n",
      "|  76 | text   | 160.555  | 546.911  | 201.508  | 559.2    |\n",
      "|  77 | text   |  82.3046 | 598.666  | 146.766  | 609.838  |\n",
      "|  78 | text   | 417.805  | 564.261  | 488.104  | 576.55   |\n",
      "|  79 | text   | 417.805  | 577.461  | 464.875  | 589.75   |\n",
      "|  80 | text   | 417.805  | 590.661  | 455.7    | 602.95   |\n",
      "|  81 | text   | 417.805  | 603.861  | 449.596  | 616.15   |\n",
      "|  82 | text   | 417.805  | 617.061  | 477.118  | 629.35   |\n",
      "|  83 | text   | 275.138  | 594.678  | 366.86   | 606.967  |\n",
      "|  84 | text   | 275.138  | 607.878  | 377.242  | 620.167  |\n",
      "|  85 | text   | 275.138  | 621.078  | 379.684  | 633.367  |\n",
      "|  86 | text   |  91.8053 | 690.51   | 104.039  | 702.799  |\n",
      "|  87 | text   | 104.04   | 690.358  | 107.56   | 698.215  |\n",
      "|  88 | text   | 107.559  | 691      | 114.692  | 698.165  |\n",
      "|  89 | text   | 202.805  | 694.511  | 215.038  | 706.8    |\n",
      "|  90 | text   | 215.04   | 694.358  | 218.559  | 702.215  |\n",
      "|  91 | text   | 218.56   | 695      | 222.126  | 702.165  |\n",
      "|  92 | text   | 222.126  | 690.848  | 229.555  | 706.3    |\n",
      "|  93 | text   | 229.555  | 694.011  | 241.788  | 706.3    |\n",
      "|  94 | text   | 241.79   | 693.858  | 245.309  | 701.715  |\n",
      "|  95 | text   | 245.31   | 694.5    | 248.876  | 701.665  |\n",
      "|  96 | text   | 248.877  | 694.011  | 258.04   | 706.3    |\n",
      "|  97 | text   | 305.055  | 694.011  | 317.288  | 706.3    |\n",
      "|  98 | text   | 317.29   | 693.858  | 320.809  | 701.715  |\n",
      "|  99 | text   | 320.81   | 694.5    | 324.376  | 701.665  |\n",
      "| 100 | text   | 407.305  | 694.511  | 419.538  | 706.8    |\n",
      "| 101 | text   | 419.54   | 694.358  | 423.059  | 702.215  |\n",
      "| 102 | text   | 423.06   | 695      | 426.626  | 702.165  |\n",
      "| 103 | text   | 334.055  | 694.011  | 346.288  | 706.3    |\n",
      "| 104 | text   | 346.29   | 693.858  | 349.809  | 701.715  |\n",
      "| 105 | text   | 349.81   | 694.5    | 353.376  | 701.665  |\n",
      "| 106 | text   | 353.377  | 694.011  | 362.54   | 706.3    |\n",
      "| 107 | text   | 434.554  | 693.761  | 446.788  | 706.05   |\n",
      "| 108 | text   | 446.79   | 693.608  | 450.309  | 701.465  |\n",
      "| 109 | text   | 450.31   | 694.25   | 453.876  | 701.415  |\n",
      "| 110 | text   | 453.877  | 693.761  | 463.04   | 706.05   |\n",
      "| 111 | text   | 476.055  | 694.011  | 488.288  | 706.3    |\n",
      "| 112 | text   | 488.29   | 693.858  | 491.496  | 701.715  |\n",
      "| 113 | text   | 491.497  | 694.011  | 500.66   | 706.3    |\n",
      "| 114 | text   | 124.804  | 690.344  | 137.038  | 702.633  |\n",
      "| 115 | text   | 137.04   | 690.191  | 140.559  | 698.048  |\n",
      "| 116 | text   | 140.559  | 690.833  | 144.126  | 697.998  |\n",
      "| 117 | text   | 144.126  | 690.344  | 153.289  | 702.633  |\n",
      "| 118 | text   |  53.85   | 714.698  |  80.5183 | 722.815  |\n",
      "| 119 | text   |  80.5172 | 714.698  | 270.291  | 722.815  |\n",
      "+-----+--------+----------+----------+----------+----------+\n"
     ]
    }
   ],
   "source": [
    "print(tabulate(df, headers = 'keys', tablefmt = 'psql'))"
   ]
  },
  {
   "cell_type": "code",
   "execution_count": null,
   "id": "e92b661c-ed67-419d-84dd-5f433f064747",
   "metadata": {},
   "outputs": [],
   "source": []
  }
 ],
 "metadata": {
  "kernelspec": {
   "display_name": "Python 3 (ipykernel)",
   "language": "python",
   "name": "python3"
  },
  "language_info": {
   "codemirror_mode": {
    "name": "ipython",
    "version": 3
   },
   "file_extension": ".py",
   "mimetype": "text/x-python",
   "name": "python",
   "nbconvert_exporter": "python",
   "pygments_lexer": "ipython3",
   "version": "3.8.14"
  }
 },
 "nbformat": 4,
 "nbformat_minor": 5
}
